{
  "nbformat": 4,
  "nbformat_minor": 0,
  "metadata": {
    "colab": {
      "name": "Untitled6.ipynb",
      "provenance": [],
      "authorship_tag": "ABX9TyMa+SNzoxlHUVIA/W8gR6Ky",
      "include_colab_link": true
    },
    "kernelspec": {
      "name": "python3",
      "display_name": "Python 3"
    },
    "language_info": {
      "name": "python"
    }
  },
  "cells": [
    {
      "cell_type": "markdown",
      "metadata": {
        "id": "view-in-github",
        "colab_type": "text"
      },
      "source": [
        "<a href=\"https://colab.research.google.com/github/Yunjunseon/web1/blob/main/Untitled6.ipynb\" target=\"_parent\"><img src=\"https://colab.research.google.com/assets/colab-badge.svg\" alt=\"Open In Colab\"/></a>"
      ]
    },
    {
      "cell_type": "markdown",
      "metadata": {
        "id": "Q8eAEfGp9aEM"
      },
      "source": [
        "객체 지향 뿌수기\n",
        "\n",
        "- Collections 모듈과 context  \n",
        "  deque ordereddict defaultdict namedtupple Counter \n",
        "\n",
        "- itertools 모듈 (문자열 메서드 하듯이 하나 하나) counter 예제 하나하나\n",
        "\n",
        "- context\n",
        "\n",
        "\n",
        "- 4장 다 끝냈으면\n",
        "5,6 디스크립터\n",
        "\n",
        "- 그리고 7장 정리 일케 일케 하자아아아아아\n",
        "\n",
        "\n",
        "집합형 자료형 강의 1\n",
        "반복문 정리\n",
        "집합형 자료형 강의 2\n",
        "3장 정리 + turtle\n",
        "조건문 정리 + 총정리"
      ]
    },
    {
      "cell_type": "code",
      "metadata": {
        "colab": {
          "base_uri": "https://localhost:8080/"
        },
        "id": "zO7fCmME9Wt0",
        "outputId": "888a5d2c-82dc-4230-b523-9f87b11a87f1"
      },
      "source": [
        "from collections import deque\n",
        "''' deque는 linked-list 구조로\n",
        "list 보다 처리속도가 빠르므로 queue 자료구조를 이용\n",
        "해야하는 경우 deque 사용 '''\n",
        "my_deque = deque(['apple','lemon','tomato','mango','orange'])\n",
        "print(f'{my_deque}, {type(my_deque)}')\n",
        "my_deque.append('pear')\n",
        "my_deque.appendleft('peach')\n",
        "print(f'{my_deque}')\n",
        "my_deque.rotate(2)#circular queue 대체\n",
        "print(f'{my_deque}')\n",
        "my_deque.popleft()\n",
        "my_deque.pop()\n",
        "print(f'{my_deque}')\n",
        "\n",
        "# deque 양방향 처리 속도 빠르닿 활용방법\n",
        "''' from collections import deque\n",
        "my deque = deque([1,2,3,4,5,12,13,])  # 데쿠 생성 deque로 리스트를 덮어준다\n",
        "my_deque.append()\n",
        "mt_deque.appendleft   # lefft append 아니에요 appendleft\n",
        "mtdeque.popleft\n",
        "mt_deque.left\n",
        "circular queee 라는 게 있어 이거를 대체 할 수 있게끔 여기서 제공해주는 것이 뭐냐\n",
        "rotate(2) 인덱스 2 씩 회전시켜라\n",
        "mt_deque.rotate(2)"
      ],
      "execution_count": 1,
      "outputs": [
        {
          "output_type": "stream",
          "text": [
            "deque(['apple', 'lemon', 'tomato', 'mango', 'orange']), <class 'collections.deque'>\n",
            "deque(['peach', 'apple', 'lemon', 'tomato', 'mango', 'orange', 'pear'])\n",
            "deque(['orange', 'pear', 'peach', 'apple', 'lemon', 'tomato', 'mango'])\n",
            "deque(['pear', 'peach', 'apple', 'lemon', 'tomato'])\n"
          ],
          "name": "stdout"
        }
      ]
    },
    {
      "cell_type": "code",
      "metadata": {
        "colab": {
          "base_uri": "https://localhost:8080/"
        },
        "id": "gwl1DnHi_25o",
        "outputId": "2be6e320-d638-49a1-e866-9199f75f9df7"
      },
      "source": [
        "# Ordereddict\n",
        "from collections import OrderedDict\n",
        "d = OrderedDict()\n",
        "d['x'] = 100\n",
        "d['y'] = 200\n",
        "d['z'] = 300\n",
        "d['a'] = 400\n",
        "print(d)  ### 허거걱거걱ㄱ 세상에 마상에 입력한 순서대로 나왔어 dict였다면은?\n",
        "\n",
        "a= dict()\n",
        "a['x'] = 100\n",
        "a['y'] = 200\n",
        "a['z'] = 300\n",
        "a['a'] = 400\n",
        "print(a)\n",
        "\n",
        "\n",
        "# defaultdict   a = defaultdict(바로 호출할 수 있는 객체 예를 들어 함수 lamda : 3)\n",
        "''' 기본적으로 dict를 입력할 때 기본값을 준다!!!!!  키없어서 오류 나오는 것을 막기 위해서'''\n",
        "from collections import defaultdict\n",
        "my_dict = defaultdict(lambda :0)\n",
        "print(my_dict['a'])\n",
        "\n",
        "# from collections import defaultdict\n",
        "my_dict = defaultdict(lambda : 0)\n",
        "print(my_dict) #\n",
        "\n",
        "#\n",
        "from collections import defaultdict\n",
        "def initial():\n",
        "  return 3\n",
        "my_dict = defaultdict(initial)\n",
        "my_dict['apple'] = 3\n",
        "my_dict['mango'] = 2\n",
        "my_dict['peach'] = 4\n",
        "my_dict['tomato'] = 3\n",
        "print(my_dict['cherry'])\n",
        "print(my_dict)\n",
        "\n",
        "'''같은 이름을 가진 여러 개의 key 의 값들을 하나 Key로 묶어 표현 가능'''\n",
        "\n",
        "from collections import defaultdict\n",
        "my_list = [('a', 10),('b', 20),('a', 100),('c',30),('d',40),('c',300)]\n",
        "my_dict = defaultdict(list)  # defaultdict의 기본값이 list\n",
        "for v1,v2 in my_list:\n",
        "  my_dict[v1].append(v2)     # my_dict[s] = '3' 이런식으로 값 넣어서 딕셔너리 만들고 디폴트딕 만들자  리승튼이ㅏ른이라ㅢㅏ 잘 이해가 안간다 과정이\n",
        "\n",
        "# 일단 중요한 부분이야 외워야 해 from collections import defaultdict\n",
        "'''my_list = a뭐시기 뭐시기\n",
        "my_dict = defaultdict(list)\n",
        "for a,b in my_list:\n",
        "  my_dict[a].append(b)  # 어려워 어려워'''\n",
        "\n",
        "print(my_dict)\n",
        "print(my_dict.items())  # 튜플 list로 바꾸고 싶으면 list 쓰ㅢ워주세요오오!!!\n",
        "\n"
      ],
      "execution_count": 8,
      "outputs": [
        {
          "output_type": "stream",
          "text": [
            "OrderedDict([('x', 100), ('y', 200), ('z', 300), ('a', 400)])\n",
            "{'x': 100, 'y': 200, 'z': 300, 'a': 400}\n",
            "0\n",
            "defaultdict(<function <lambda> at 0x7f70addaaa70>, {})\n",
            "3\n",
            "defaultdict(<function initial at 0x7f70addaa440>, {'apple': 3, 'mango': 2, 'peach': 4, 'tomato': 3, 'cherry': 3})\n",
            "defaultdict(<class 'list'>, {'a': [10, 100], 'b': [20], 'c': [30, 300], 'd': [40]})\n",
            "dict_items([('a', [10, 100]), ('b', [20]), ('c', [30, 300]), ('d', [40])])\n"
          ],
          "name": "stdout"
        }
      ]
    },
    {
      "cell_type": "code",
      "metadata": {
        "colab": {
          "base_uri": "https://localhost:8080/"
        },
        "id": "rA0grC11H0P4",
        "outputId": "2c51afb7-84c9-43d5-fa2f-51c9fecba53e"
      },
      "source": [
        "# Counter\n",
        "from collections import Counter\n",
        "text = list(\"collection chocolate\")\n",
        "print(text)\n",
        "text_c = Counter(text)  #text_c = Counter(text) 새러운 변수에 저장해주자\n",
        "print(text_c)\n",
        "print(text_c['c'])\n",
        "print(text_c['x'])  # 없는 거를 호출하라고 하면은 0 을 반환해내네요 오류 안내고 차아아암 똑똑한 녀석이다 ㅎㅎㅎㅎㅎ\n",
        "\n",
        "# # Counter 활용\n",
        "# ''' 아까 defaultdict를 어떻게 활용했었지이이이???? ''''\n",
        "# ''''딕셔너리에서 중복인 키 애들 값을 모아줬었지   my_dict = defaultdict(list)  ## 요거를 만들어서!!!! 어뜨케 한 고얌??? \n",
        "#  for a,b in my_list:\n",
        "#    my_dict[a].append(b)  # 요런 식으로\n",
        "\n",
        "# ''' 이제 우리도 counter 활용을 해보자  각 요소별 개수를 딕셔너리로 저장해낼 수 있을 거야  그러면 특정 개수들을 뽑아낼 수도 있겠지  어떻게 예를들어서\n",
        "# happy라는 단어와 ,unhappy라는 단어의 수를 뽑아서 또 새로운 자료형으로 저장하고 싶어  그러면은 어뜨케 해야되는 걸까\n",
        "\n",
        "# fron collections import Counter\n",
        "# text0= \" I am happy so I am happy I am not unhappy iohohdfnkl oh my hhod  ifdfnsdjfds happy so muc h gghdjkghdk happy   hppppyy unhappy!!!!!!1?!!?!/\" # 이런 문장이 있다고 해봐\n",
        "# # happy랑 unhappy를 얼마나 불러냈나요  어뜨케 볼 수 있어???  Counter로 꺼내보자  데이터 자료구조야 메서드가 아니라아아아\n",
        "\n",
        "# text0_c = Counter(text0)  # dict\n",
        "                  \n",
        "\n",
        "# Counter 문제\n",
        "\n",
        "'''리스트에 입력된 값 중에서 중복된 값을 찾아 출력하는 프로그램 작성'''\n",
        "[10,20,50,70,30,20,70] → [20,70]\n",
        "[‘Jane’,’Python’,’Ann’,’Ruby’,’Python’] → [‘Python ]\n",
        "\n",
        "from collections import Counter\n",
        "in_input = input('리스트를 입력해줄래요??').split()\n",
        "in_input_c = Conter(in_input)  # 개수가 딕셔너리로 나올 거야\n",
        "index = 0  1 2 3 4 5 6  '''key별로 보면서 디폴트딕트가 아니니까 아마 인덱싱은 안되겠지 음'''\n",
        "result =[] # 값을 저장할 리스트  리스트니까 0 \"\" 이거 같은 none으로 넣으면 안되지 컴언실에서 배웠지이이 어떻게 해줘야대??? \n",
        "\n",
        "if in_input_c[여기에 변하는 수를 넣고 싶은데 변수가 없네에] > 1:\n",
        "  print(result.append(in_input_c))\n",
        "\n",
        "\n",
        "\n"
      ],
      "execution_count": 11,
      "outputs": [
        {
          "output_type": "stream",
          "text": [
            "['c', 'o', 'l', 'l', 'e', 'c', 't', 'i', 'o', 'n', ' ', 'c', 'h', 'o', 'c', 'o', 'l', 'a', 't', 'e']\n",
            "Counter({'c': 4, 'o': 4, 'l': 3, 'e': 2, 't': 2, 'i': 1, 'n': 1, ' ': 1, 'h': 1, 'a': 1})\n",
            "4\n",
            "0\n"
          ],
          "name": "stdout"
        }
      ]
    },
    {
      "cell_type": "code",
      "metadata": {
        "colab": {
          "base_uri": "https://localhost:8080/"
        },
        "id": "TQY4mD98MEre",
        "outputId": "fa2fc785-d93b-4ec1-92ee-8d72aa5ebc06"
      },
      "source": [
        "from collections import Counter\n",
        "a =['jane','python','python','apple','sohyun']  range(4)   5개  인덱스 끝부분은 4개  5\n",
        "a_c =Counter(a)\n",
        "a_c\n",
        "keys_value =list(a_c.keys) # 딕셔너리 키 값만 다 받았어 keys_value[0][1][2]  ... len(keys_value) 까지\n",
        "\n",
        "for i in range(len(keys_value)):\n",
        "  my_data = keys_value[i] # 요거를 하게되면 하나씩 키 값이 나오지\n",
        "  if a_c[my_data] ==fff\n",
        "   \n",
        "for i in a_c: \n",
        "# 키 값만 얼런 다 받아아봐  a_c.keys() 튜플로 나올거고 list로 바꿔볼 까 아냐 그냥 list로 바꿔도 되네 keys_value =list(a_c.keys) \n",
        "#요 입력 리스트의 요소들이겠네 a[0] a[1] a[2] a[3] 이런식으로 길이를 모른다면 인덱싱을 어떻게 해야해 그러면????\n",
        "# [0:]\n",
        "for i in range(len(a)):   # 이 방법도 틀렸지 중복이 사라지면서 인덱스가 달라지자나\n",
        "  a_c[i]"
      ],
      "execution_count": 14,
      "outputs": [
        {
          "output_type": "execute_result",
          "data": {
            "text/plain": [
              "Counter({'apple': 1, 'jane': 1, 'python': 2, 'sohyun': 1})"
            ]
          },
          "metadata": {
            "tags": []
          },
          "execution_count": 14
        }
      ]
    }
  ]
}