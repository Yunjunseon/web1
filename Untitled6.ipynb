{
  "nbformat": 4,
  "nbformat_minor": 0,
  "metadata": {
    "colab": {
      "name": "Untitled6.ipynb",
      "provenance": [],
      "authorship_tag": "ABX9TyM5GLLsWdijFOr4OEVDlhIL",
      "include_colab_link": true
    },
    "kernelspec": {
      "name": "python3",
      "display_name": "Python 3"
    },
    "language_info": {
      "name": "python"
    }
  },
  "cells": [
    {
      "cell_type": "markdown",
      "metadata": {
        "id": "view-in-github",
        "colab_type": "text"
      },
      "source": [
        "<a href=\"https://colab.research.google.com/github/Yunjunseon/web1/blob/main/Untitled6.ipynb\" target=\"_parent\"><img src=\"https://colab.research.google.com/assets/colab-badge.svg\" alt=\"Open In Colab\"/></a>"
      ]
    },
    {
      "cell_type": "markdown",
      "metadata": {
        "id": "Q8eAEfGp9aEM"
      },
      "source": [
        "객체 지향 뿌수기\n",
        "\n",
        "- Collections 모듈과 context  \n",
        "  deque ordereddict defaultdict namedtupple Counter \n",
        "\n",
        "- itertools 모듈 (문자열 메서드 하듯이 하나 하나) counter 예제 하나하나\n",
        "\n",
        "- context\n",
        "\n",
        "\n",
        "- 4장 다 끝냈으면\n",
        "5,6 디스크립터\n",
        "\n",
        "- 그리고 7장 정리 일케 일케 하자아아아아아\n",
        "\n",
        "\n",
        "집합형 자료형 강의 1\n",
        "반복문 정리\n",
        "집합형 자료형 강의 2\n",
        "3장 정리 + turtle\n",
        "조건문 정리 + 총정리"
      ]
    },
    {
      "cell_type": "code",
      "metadata": {
        "colab": {
          "base_uri": "https://localhost:8080/"
        },
        "id": "zO7fCmME9Wt0",
        "outputId": "888a5d2c-82dc-4230-b523-9f87b11a87f1"
      },
      "source": [
        "from collections import deque\n",
        "''' deque는 linked-list 구조로\n",
        "list 보다 처리속도가 빠르므로 queue 자료구조를 이용\n",
        "해야하는 경우 deque 사용 '''\n",
        "my_deque = deque(['apple','lemon','tomato','mango','orange'])\n",
        "print(f'{my_deque}, {type(my_deque)}')\n",
        "my_deque.append('pear')\n",
        "my_deque.appendleft('peach')\n",
        "print(f'{my_deque}')\n",
        "my_deque.rotate(2)#circular queue 대체\n",
        "print(f'{my_deque}')\n",
        "my_deque.popleft()\n",
        "my_deque.pop()\n",
        "print(f'{my_deque}')\n",
        "\n",
        "# deque 양방향 처리 속도 빠르닿 활용방법\n",
        "''' from collections import deque\n",
        "my deque = deque([1,2,3,4,5,12,13,])  # 데쿠 생성 deque로 리스트를 덮어준다\n",
        "my_deque.append()\n",
        "mt_deque.appendleft   # lefft append 아니에요 appendleft\n",
        "mtdeque.popleft\n",
        "mt_deque.left\n",
        "circular queee 라는 게 있어 이거를 대체 할 수 있게끔 여기서 제공해주는 것이 뭐냐\n",
        "rotate(2) 인덱스 2 씩 회전시켜라\n",
        "mt_deque.rotate(2)"
      ],
      "execution_count": 1,
      "outputs": [
        {
          "output_type": "stream",
          "text": [
            "deque(['apple', 'lemon', 'tomato', 'mango', 'orange']), <class 'collections.deque'>\n",
            "deque(['peach', 'apple', 'lemon', 'tomato', 'mango', 'orange', 'pear'])\n",
            "deque(['orange', 'pear', 'peach', 'apple', 'lemon', 'tomato', 'mango'])\n",
            "deque(['pear', 'peach', 'apple', 'lemon', 'tomato'])\n"
          ],
          "name": "stdout"
        }
      ]
    },
    {
      "cell_type": "code",
      "metadata": {
        "colab": {
          "base_uri": "https://localhost:8080/"
        },
        "id": "gwl1DnHi_25o",
        "outputId": "afe9e42d-d91a-424d-e83f-7be508d2b98d"
      },
      "source": [
        "# Ordereddict\n",
        "from collections import OrderedDict\n",
        "d = OrderedDict()\n",
        "d['x'] = 100\n",
        "d['y'] = 200\n",
        "d['z'] = 300\n",
        "d['a'] = 400\n",
        "print(d)  ### 허거걱거걱ㄱ 세상에 마상에 입력한 순서대로 나왔어 dict였다면은?\n",
        "\n",
        "a= dict()\n",
        "a['x'] = 100\n",
        "a['y'] = 200\n",
        "a['z'] = 300\n",
        "a['a'] = 400\n",
        "print(a)\n",
        "\n",
        "\n",
        "# defaultdict   a = defaultdict(바로 호출할 수 있는 객체 예를 들어 함수 lamda : 3)\n",
        "''' 기본적으로 dict를 입력할 때 기본값을 준다!!!!!  키없어서 오류 나오는 것을 막기 위해서'''\n",
        "from collections import defaultdict\n",
        "my_dict = defaultdict(lambda :0)\n",
        "print(my_dict['a'])\n",
        "\n",
        "# from collections import defaultdict\n",
        "my_dict = defaultdict(lambda : 0)\n",
        "print(my_dict) #\n",
        "\n",
        "#\n",
        "from collections import defaultdict\n",
        "def initial():\n",
        "  return 3\n",
        "my_dict = defaultdict(initial)\n",
        "my_dict['apple'] = 3\n",
        "my_dict['mango'] = 2\n",
        "my_dict['peach'] = 4\n",
        "my_dict['tomato'] = 3\n",
        "print(my_dict['cherry'])\n",
        "print(my_dict)"
      ],
      "execution_count": 7,
      "outputs": [
        {
          "output_type": "stream",
          "text": [
            "OrderedDict([('x', 100), ('y', 200), ('z', 300), ('a', 400)])\n",
            "{'x': 100, 'y': 200, 'z': 300, 'a': 400}\n",
            "0\n",
            "defaultdict(<function <lambda> at 0x7f70add6df80>, {})\n",
            "3\n",
            "defaultdict(<function initial at 0x7f70add6d320>, {'apple': 3, 'mango': 2, 'peach': 4, 'tomato': 3, 'cherry': 3})\n"
          ],
          "name": "stdout"
        }
      ]
    }
  ]
}