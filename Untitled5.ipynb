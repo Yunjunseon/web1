{
  "nbformat": 4,
  "nbformat_minor": 0,
  "metadata": {
    "colab": {
      "name": "Untitled5.ipynb",
      "provenance": [],
      "authorship_tag": "ABX9TyNNETpTCB4OTPAA1dSf7OoV",
      "include_colab_link": true
    },
    "kernelspec": {
      "name": "python3",
      "display_name": "Python 3"
    },
    "language_info": {
      "name": "python"
    }
  },
  "cells": [
    {
      "cell_type": "markdown",
      "metadata": {
        "id": "view-in-github",
        "colab_type": "text"
      },
      "source": [
        "<a href=\"https://colab.research.google.com/github/Yunjunseon/web1/blob/main/Untitled5.ipynb\" target=\"_parent\"><img src=\"https://colab.research.google.com/assets/colab-badge.svg\" alt=\"Open In Colab\"/></a>"
      ]
    },
    {
      "cell_type": "code",
      "metadata": {
        "colab": {
          "base_uri": "https://localhost:8080/"
        },
        "id": "PvagaBQ6seJW",
        "outputId": "1fe3188d-e2d4-4dcc-f212-95afd9acc987"
      },
      "source": [
        "## 문자열\n",
        "\n",
        "# 인덱싱\n",
        "myString = \"안녕 파이썬코드!\"\n",
        "print(myString)\n",
        "print(myString[0])\n",
        "print(myString[1:7])\n",
        "print(myString[-1])\n",
        "print(myString[:-1])\n",
        "print(myString[::-1])\n",
        "print(myString[-1::-1])\n",
        "print(myString[::2])\n",
        "# print(,yString[-1:0:-1]) 이코든느 오류네   0 과 -1 끝부분들 때문에 그러지\n",
        " \n",
        "# +* 연산\n",
        "first = \"안녕\"\n",
        "second = \"python\"\n",
        "add = first + second\n",
        "print(add)\n",
        "print(first*3)\n",
        "print(\"class\" + \"03\")\n",
        "\n",
        "# len() 함수 인덱스의 개수를 나타내줌\n",
        "name = \"korea univ\"\n",
        "print(len(name))\n",
        "school = \"컴퓨터언어및실습\"\n",
        "print(f'{len(school)}')\n",
        "\n",
        "\n",
        "# 인덱싱 예제 문제fruit = \"strawberry\"\n",
        "fruit = \"strawberry\"\n",
        "print(f'{fruit:.2s}')  # 서식문자로 인덱싱\n",
        "print('%.5s' % fruit)\n",
        "print(fruit[0]+fruit[1]+fruit[2]+fruit[3]+fruit[4]+ \\\n",
        "fruit[5]+fruit[6]+fruit[7]+fruit[8]+fruit[9])\n",
        "print(f'{fruit[0:2]}')\n",
        "# straw 만 출력하려면 문자열 범위는?\n",
        "print(f'{fruit[0:5]}')#[:5] 가능, default가 0임\n",
        "# berry 만 출력하려면 문자열 범위는\n",
        "print('%s' % fruit[5:10]) # [5:]\n",
        "#전체 문자열을 슬라이싱을 이용하여 출력하면?\n",
        "print('%s' % fruit[:]) #[::]\n",
        "\n",
        "# *** 역순으로 출력하기 ***\n",
        "print('%s' % fruit[-1::-1])\n",
        "print(f'{fruit[::-1]}')\n",
        "\n",
        "# 필드폭 정렬 메서드  # center(필드폭,채우고 싶은 문자) rfil(필드폭) lfill(필드콕)  zfill(필드폭)###\n",
        "a = '안녕하세요'\n",
        "print(\" '{}' \".format(a.center(20)))\n",
        "print(\" '{}' \".format(a.center(20,'*')))\n",
        "print(\" '{}' \".format(a.ljust(20)))\n",
        "print(\" '{}' \".format(a.rjust(20)))\n",
        "print(\" '{}' \".format(a.zfill(20))) # 오른쪽 정렬이되 뭐시기\n",
        "\n",
        "#  그 밖의 기타 함수 isdigit isalpha isalnum\n",
        "'123'.isdigit() \n",
        "'abc'.isalpha() \n",
        "'abc123'.isalnum()\n",
        "'abc'.islower() \n",
        "'a b c'.isalpha()\n",
        "'  '.isspace()\n",
        "'abc'.isalnum() \n",
        "'123'.isalnum()"
      ],
      "execution_count": null,
      "outputs": [
        {
          "output_type": "stream",
          "text": [
            "안녕 파이썬코드!\n",
            "안\n",
            "녕 파이썬코\n",
            "!\n",
            "안녕 파이썬코드\n",
            "!드코썬이파 녕안\n",
            "!드코썬이파 녕안\n",
            "안 이코!\n",
            "안녕python\n",
            "안녕안녕안녕\n",
            "class03\n",
            "10\n",
            "8\n",
            "st\n",
            "straw\n",
            "strawberry\n",
            "st\n",
            "straw\n",
            "berry\n",
            "strawberry\n",
            "yrrebwarts\n",
            "yrrebwarts\n",
            " '       안녕하세요        ' \n",
            " '*******안녕하세요********' \n",
            " '안녕하세요               ' \n",
            " '               안녕하세요' \n",
            " '000000000000000안녕하세요' \n"
          ],
          "name": "stdout"
        },
        {
          "output_type": "execute_result",
          "data": {
            "text/plain": [
              "True"
            ]
          },
          "metadata": {
            "tags": []
          },
          "execution_count": 15
        }
      ]
    },
    {
      "cell_type": "code",
      "metadata": {
        "colab": {
          "base_uri": "https://localhost:8080/"
        },
        "id": "7Q5fA3b7zQXr",
        "outputId": "a3a651da-2f32-41a8-f0b8-ac84af2bd83c"
      },
      "source": [
        "#  그 밖의 기타 함수 isdigit isalpha isalnum\n",
        "print('abc123'.isalnum())\n",
        "print('abc'.islower()) \n",
        "print('a b c'.isalpha())\n",
        "print('  '.isspace())\n",
        "print('abc'.isalnum()) \n",
        "print('123'.isalnum())\n"
      ],
      "execution_count": null,
      "outputs": [
        {
          "output_type": "stream",
          "text": [
            "True\n",
            "True\n",
            "False\n",
            "True\n",
            "True\n",
            "True\n"
          ],
          "name": "stdout"
        }
      ]
    },
    {
      "cell_type": "code",
      "metadata": {
        "colab": {
          "base_uri": "https://localhost:8080/"
        },
        "id": "hMC1Rc4gzxeQ",
        "outputId": "5bb0db08-aee3-4d45-9dfc-5235feee774a"
      },
      "source": [
        "# 10년후 날짜 구하기\n",
        "year = input(\"날짜(연/월/일)입력 >> \")\n",
        "year_split = year.split('/')\n",
        "print(\"입력한 날짜의 10년 후 --> \", end='')\n",
        "print(str(int(year_split[0])+10)+'년', end=' ')\n",
        "print(year_split[1]+'월', end=' ')\n",
        "print(year_split[2]+'일')\n",
        "\n",
        "# 파이썬 join하기\n",
        "print('&'.join('python'))\n",
        "print('사랑해'.join('소현아'))"
      ],
      "execution_count": null,
      "outputs": [
        {
          "output_type": "stream",
          "text": [
            "날짜(연/월/일)입력 >> 10/07/100/\n",
            "입력한 날짜의 10년 후 --> 20년 07월 100일\n",
            "p&y&t&h&o&n\n",
            "소사랑해현사랑해아\n"
          ],
          "name": "stdout"
        }
      ]
    },
    {
      "cell_type": "code",
      "metadata": {
        "colab": {
          "base_uri": "https://localhost:8080/",
          "height": 134
        },
        "id": "LnuZv5ot0jjq",
        "outputId": "9fe46895-16d4-437b-f0f9-dac31683279f"
      },
      "source": [
        "b = \"***대*한*민*국***\"\n",
        "print(b.replace('*',''))\n",
        "print(b)\n",
        "korea = b.replace('*','')\n",
        "print(korea)\n",
        "print(b.replace(b,'대한민국')"
      ],
      "execution_count": null,
      "outputs": [
        {
          "output_type": "error",
          "ename": "SyntaxError",
          "evalue": "ignored",
          "traceback": [
            "\u001b[0;36m  File \u001b[0;32m\"<ipython-input-26-cc4f3d2164f0>\"\u001b[0;36m, line \u001b[0;32m6\u001b[0m\n\u001b[0;31m    print(b.replace(b,'대한민국')\u001b[0m\n\u001b[0m                             ^\u001b[0m\n\u001b[0;31mSyntaxError\u001b[0m\u001b[0;31m:\u001b[0m unexpected EOF while parsing\n"
          ]
        }
      ]
    },
    {
      "cell_type": "code",
      "metadata": {
        "id": "FMp1srrB8XVS"
      },
      "source": [
        ""
      ],
      "execution_count": null,
      "outputs": []
    },
    {
      "cell_type": "code",
      "metadata": {
        "colab": {
          "base_uri": "https://localhost:8080/"
        },
        "id": "yEIOeu8g164M",
        "outputId": "e35a9fb9-0346-4e1e-f8e4-d73bd2af4ff6"
      },
      "source": [
        "items = [10,20,30,40,50,60,70]\n",
        "items[3:4] = [4000,5000] # items[3:4] = 4000,5000\n",
        "print(items)\n",
        "items = [10,20,30,40,50,60,70]\n",
        "items[3] = 4000\n",
        "print(items)\n",
        "items = [10,20,30,40,50,60,70]\n",
        "items[2:4] = [300,400] # items[2], items[3] 의 값이 변경\n",
        "print(items)\n",
        "# 겉으로 보이는 결과값은 차이가 없는데 이렇게 다르다 items[3:4]"
      ],
      "execution_count": null,
      "outputs": [
        {
          "output_type": "stream",
          "text": [
            "[10, 20, 30, 4000, 5000, 50, 60, 70]\n",
            "[10, 20, 30, 4000, 50, 60, 70]\n",
            "[10, 20, 300, 400, 50, 60, 70]\n"
          ],
          "name": "stdout"
        }
      ]
    },
    {
      "cell_type": "code",
      "metadata": {
        "id": "p5osB5qF2XEc"
      },
      "source": [
        "# 튜플 딕셔너리 set\n",
        "정리리리리릴 정리리리리릴리 저이리릴리\n",
        "\n",
        "# 객체 고거 한 번 봐볼까아? 데쿠 이런 거 컬렉션 모듈???!!?!?!/!/\n",
        "\n",
        "# 객체  디스크립터 ㅠㅠㅠㅠ 디스크립터 ㅠㅠ ㅠㅠ ㅠ 디스크립터 ㅠㅠ ㅠㅠㅇ ㅠ\n",
        "\n",
        "# 짜잘한 거 코드별로 정리\n",
        "\n",
        "# 6장도 꼭 듣고"
      ],
      "execution_count": null,
      "outputs": []
    },
    {
      "cell_type": "code",
      "metadata": {
        "colab": {
          "base_uri": "https://localhost:8080/"
        },
        "id": "7Nt05RVL3fGr",
        "outputId": "ceddfbb2-f0a7-444b-9d1a-4307114e9150"
      },
      "source": [
        "# 리스트 속성\n",
        "fruits = ['apple','mango','cherry','peach']\n",
        "drinks = ['coffee','milk','green tea','water']\n",
        "fruits_drinks = fruits + drinks\n",
        "drinks.extend(fruits)  # 새로운 값으로 연산해서 저장해 넣는 것이 아니라 아예 extend 된 것이 특징\n",
        "print(fruits_drinks)\n",
        "print(drinks)\n",
        "index_ = drinks.index('cherry')\n",
        "print(f'cheery 는 {index_}에 위치함')\n",
        "fruits_copy = fruits.copy()\n",
        "print(fruits_copy)\n",
        "\n",
        "# 튜플  10, 이것도 튜플 (10,) 이것도 튜플\n",
        "items = 10,\n",
        "tups = (30,)\n",
        "print(items)\n",
        "print(type(items))\n",
        "print(type(tups))\n",
        "\n",
        "a=10\n",
        "print(a)\n",
        "print(type(a))\n",
        "b =(20)\n",
        "print(b)\n",
        "print(type(b))\n",
        "\n",
        "# 이렇게 튜플과 리스트는 데이터 구조체처럼 사용할 수 있다.\n",
        "[a, b] = [10,20] # a,b = [10,20]\n",
        "(c, d) = (30,40) # c,d = (30,40) or c,d = 30, 40\n",
        "print(\"a::\", a)\n",
        "print(\"b::\", b)\n",
        "print(\"c::\", c)\n",
        "print(\"d::\", d)\n",
        "c = 50\n",
        "print(\"c::\", c)\n",
        "type(a)\n",
        "\n",
        "# 추가 안되고 삭제 안되고 수정 안돼\n",
        "#다만 .clear도 안되는데\n",
        "#del 튜플  전체 삭제는 가능 가윽\n",
        "\n",
        "# 함수 반환값을 튜플\n",
        "def test():\n",
        "  return 10,20 # return (10,20)\n",
        "a, b = test()\n",
        "print(a, b)\n",
        "print(type(a))  # 데이터 구조체로서 하나 하나 받고 둘 다 튜플 맞는데  받는 거니까 int\n",
        "\n",
        "def test():   # 얘는 하나가 튜플 전체로서 받고 얘의 타입은 tupple\n",
        "  return (10,20)\n",
        "a = test()\n",
        "print(a)\n",
        "print(type(a))"
      ],
      "execution_count": null,
      "outputs": [
        {
          "output_type": "stream",
          "text": [
            "['apple', 'mango', 'cherry', 'peach', 'coffee', 'milk', 'green tea', 'water']\n",
            "['coffee', 'milk', 'green tea', 'water', 'apple', 'mango', 'cherry', 'peach']\n",
            "cheery 는 6에 위치함\n",
            "['apple', 'mango', 'cherry', 'peach']\n",
            "(10,)\n",
            "<class 'tuple'>\n",
            "<class 'tuple'>\n",
            "10\n",
            "<class 'int'>\n",
            "20\n",
            "<class 'int'>\n",
            "a:: 10\n",
            "b:: 20\n",
            "c:: 30\n",
            "d:: 40\n",
            "c:: 50\n",
            "10 20\n",
            "<class 'int'>\n",
            "(10, 20)\n",
            "<class 'tuple'>\n"
          ],
          "name": "stdout"
        }
      ]
    },
    {
      "cell_type": "code",
      "metadata": {
        "colab": {
          "base_uri": "https://localhost:8080/",
          "height": 239
        },
        "id": "Q20nPzU66FLV",
        "outputId": "33f5936f-70e0-4f67-9f9f-c499e926d920"
      },
      "source": [
        "# 딕셔너리   키 값 중복 없어 마지막꺼로 get updae keys items list(dict)키값만 list(dict.items())\n",
        "\n",
        "# jelly = {'name' : \"Mango\", 'type':'절임',\n",
        "# 'ingredient':['mango','sugar','yellow dye'],\n",
        "# 'origin':'필리핀'}\n",
        "# test = [1,2,3,4,5,10,]\n",
        "# jelly.update(test)  # 업데이트 하려면은 test가 리스트가 아니라 두 쌍 되어 있는 ㅜ머시기 여야 게:ㅆ지 dict\n",
        "\n",
        "print(jelly)\n",
        "person = {['name','id']:('hong-gil',12),\n",
        "['addr','phone']:('seooul','555-5555')}  # 리스트는 변하기 때문에 키 값으로 사용할 수 없다아아아아 주의  튜플은 가능한디 왠만한 거 다 가능한디!!!\n",
        "print(person)\n",
        "\n",
        "# set\n",
        "#중복사용 불가 인덱싱 불가  .intersection .union .difference . symmetric_difference\n"
      ],
      "execution_count": null,
      "outputs": [
        {
          "output_type": "stream",
          "text": [
            "{'name': 'Mango', 'type': '절임', 'ingredient': ['mango', 'sugar', 'yellow dye'], 'origin': '필리핀'}\n"
          ],
          "name": "stdout"
        },
        {
          "output_type": "error",
          "ename": "TypeError",
          "evalue": "ignored",
          "traceback": [
            "\u001b[0;31m---------------------------------------------------------------------------\u001b[0m",
            "\u001b[0;31mTypeError\u001b[0m                                 Traceback (most recent call last)",
            "\u001b[0;32m<ipython-input-40-fafb2a802535>\u001b[0m in \u001b[0;36m<module>\u001b[0;34m()\u001b[0m\n\u001b[1;32m      9\u001b[0m \u001b[0mprint\u001b[0m\u001b[0;34m(\u001b[0m\u001b[0mjelly\u001b[0m\u001b[0;34m)\u001b[0m\u001b[0;34m\u001b[0m\u001b[0;34m\u001b[0m\u001b[0m\n\u001b[1;32m     10\u001b[0m person = {['name','id']:('hong-gil',12),\n\u001b[0;32m---> 11\u001b[0;31m ['addr','phone']:('seooul','555-5555')}\n\u001b[0m\u001b[1;32m     12\u001b[0m \u001b[0mprint\u001b[0m\u001b[0;34m(\u001b[0m\u001b[0mperson\u001b[0m\u001b[0;34m)\u001b[0m\u001b[0;34m\u001b[0m\u001b[0;34m\u001b[0m\u001b[0m\n",
            "\u001b[0;31mTypeError\u001b[0m: unhashable type: 'list'"
          ]
        }
      ]
    }
  ]
}